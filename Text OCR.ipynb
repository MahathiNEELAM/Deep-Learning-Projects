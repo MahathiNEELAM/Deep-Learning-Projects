{
 "cells": [
  {
   "cell_type": "code",
   "execution_count": 1,
   "id": "30360f15",
   "metadata": {},
   "outputs": [
    {
     "name": "stdout",
     "output_type": "stream",
     "text": [
      "Defaulting to user installation because normal site-packages is not writeable\n",
      "Requirement already satisfied: pillow in c:\\programdata\\anaconda3\\lib\\site-packages (9.0.1)\n",
      "Defaulting to user installation because normal site-packages is not writeable\n",
      "Requirement already satisfied: pytesseract in c:\\users\\saima\\appdata\\roaming\\python\\python39\\site-packages (0.3.10)\n",
      "Requirement already satisfied: Pillow>=8.0.0 in c:\\programdata\\anaconda3\\lib\\site-packages (from pytesseract) (9.0.1)\n",
      "Requirement already satisfied: packaging>=21.3 in c:\\programdata\\anaconda3\\lib\\site-packages (from pytesseract) (21.3)\n",
      "Requirement already satisfied: pyparsing!=3.0.5,>=2.0.2 in c:\\programdata\\anaconda3\\lib\\site-packages (from packaging>=21.3->pytesseract) (3.0.4)\n"
     ]
    }
   ],
   "source": [
    "!pip install pillow\n",
    "!pip install pytesseract"
   ]
  },
  {
   "cell_type": "code",
   "execution_count": 2,
   "id": "f87ee135",
   "metadata": {},
   "outputs": [],
   "source": [
    "from PIL import Image\n"
   ]
  },
  {
   "cell_type": "code",
   "execution_count": 3,
   "id": "421e6022",
   "metadata": {},
   "outputs": [],
   "source": [
    "import pytesseract"
   ]
  },
  {
   "cell_type": "code",
   "execution_count": 4,
   "id": "dbe9ee70",
   "metadata": {},
   "outputs": [
    {
     "name": "stdout",
     "output_type": "stream",
     "text": [
      "Defaulting to user installation because normal site-packages is not writeable\n",
      "Requirement already satisfied: pytesseract in c:\\users\\saima\\appdata\\roaming\\python\\python39\\site-packages (0.3.10)\n",
      "Requirement already satisfied: packaging>=21.3 in c:\\programdata\\anaconda3\\lib\\site-packages (from pytesseract) (21.3)\n",
      "Requirement already satisfied: Pillow>=8.0.0 in c:\\programdata\\anaconda3\\lib\\site-packages (from pytesseract) (9.0.1)\n",
      "Requirement already satisfied: pyparsing!=3.0.5,>=2.0.2 in c:\\programdata\\anaconda3\\lib\\site-packages (from packaging>=21.3->pytesseract) (3.0.4)\n",
      "Note: you may need to restart the kernel to use updated packages.\n"
     ]
    }
   ],
   "source": [
    "pip install pytesseract"
   ]
  },
  {
   "cell_type": "code",
   "execution_count": 11,
   "id": "cfed1012",
   "metadata": {},
   "outputs": [],
   "source": [
    "pytesseract.pytesseract.tesseract_cmd = r\"C:\\Program Files (x86)\\Tesseract-OCR\\tesseract.exe\""
   ]
  },
  {
   "cell_type": "code",
   "execution_count": 6,
   "id": "363be1e7",
   "metadata": {},
   "outputs": [
    {
     "name": "stdout",
     "output_type": "stream",
     "text": [
      "Defaulting to user installation because normal site-packages is not writeable\n",
      "Requirement already satisfied: tesseract in c:\\users\\saima\\appdata\\roaming\\python\\python39\\site-packages (0.1.3)\n",
      "Note: you may need to restart the kernel to use updated packages.\n"
     ]
    }
   ],
   "source": [
    "pip install tesseract\n"
   ]
  },
  {
   "cell_type": "code",
   "execution_count": 7,
   "id": "86c7acdb",
   "metadata": {},
   "outputs": [
    {
     "name": "stdout",
     "output_type": "stream",
     "text": [
      "Defaulting to user installation because normal site-packages is not writeable\n",
      "Collecting tesseract-ocr\n",
      "  Using cached tesseract-ocr-0.0.1.tar.gz (33 kB)\n",
      "Requirement already satisfied: cython in c:\\programdata\\anaconda3\\lib\\site-packages (from tesseract-ocr) (0.29.28)\n",
      "Building wheels for collected packages: tesseract-ocr\n",
      "  Building wheel for tesseract-ocr (setup.py): started\n",
      "  Building wheel for tesseract-ocr (setup.py): finished with status 'error'\n",
      "  Running setup.py clean for tesseract-ocr\n",
      "Failed to build tesseract-ocr\n",
      "Installing collected packages: tesseract-ocr\n",
      "    Running setup.py install for tesseract-ocr: started\n",
      "    Running setup.py install for tesseract-ocr: finished with status 'error'\n",
      "Note: you may need to restart the kernel to use updated packages.\n"
     ]
    },
    {
     "name": "stderr",
     "output_type": "stream",
     "text": [
      "  ERROR: Command errored out with exit status 1:\n",
      "   command: 'C:\\ProgramData\\Anaconda3\\python.exe' -u -c 'import io, os, sys, setuptools, tokenize; sys.argv[0] = '\"'\"'C:\\\\Users\\\\saima\\\\AppData\\\\Local\\\\Temp\\\\pip-install-lujqk_7y\\\\tesseract-ocr_133f5235d034483cbe2d230b93962b13\\\\setup.py'\"'\"'; __file__='\"'\"'C:\\\\Users\\\\saima\\\\AppData\\\\Local\\\\Temp\\\\pip-install-lujqk_7y\\\\tesseract-ocr_133f5235d034483cbe2d230b93962b13\\\\setup.py'\"'\"';f = getattr(tokenize, '\"'\"'open'\"'\"', open)(__file__) if os.path.exists(__file__) else io.StringIO('\"'\"'from setuptools import setup; setup()'\"'\"');code = f.read().replace('\"'\"'\\r\\n'\"'\"', '\"'\"'\\n'\"'\"');f.close();exec(compile(code, __file__, '\"'\"'exec'\"'\"'))' bdist_wheel -d 'C:\\Users\\saima\\AppData\\Local\\Temp\\pip-wheel-snq_jmnc'\n",
      "       cwd: C:\\Users\\saima\\AppData\\Local\\Temp\\pip-install-lujqk_7y\\tesseract-ocr_133f5235d034483cbe2d230b93962b13\\\n",
      "  Complete output (10 lines):\n",
      "  C:\\ProgramData\\Anaconda3\\lib\\site-packages\\setuptools\\dist.py:757: UserWarning: Usage of dash-separated 'description-file' will not be supported in future versions. Please use the underscore name 'description_file' instead\n",
      "    warnings.warn(\n",
      "  running bdist_wheel\n",
      "  running build\n",
      "  running build_py\n",
      "  file tesseract_ocr.py (for module tesseract_ocr) not found\n",
      "  file tesseract_ocr.py (for module tesseract_ocr) not found\n",
      "  running build_ext\n",
      "  building 'tesseract_ocr' extension\n",
      "  error: Microsoft Visual C++ 14.0 or greater is required. Get it with \"Microsoft C++ Build Tools\": https://visualstudio.microsoft.com/visual-cpp-build-tools/\n",
      "  ----------------------------------------\n",
      "  ERROR: Failed building wheel for tesseract-ocr\n",
      "    ERROR: Command errored out with exit status 1:\n",
      "     command: 'C:\\ProgramData\\Anaconda3\\python.exe' -u -c 'import io, os, sys, setuptools, tokenize; sys.argv[0] = '\"'\"'C:\\\\Users\\\\saima\\\\AppData\\\\Local\\\\Temp\\\\pip-install-lujqk_7y\\\\tesseract-ocr_133f5235d034483cbe2d230b93962b13\\\\setup.py'\"'\"'; __file__='\"'\"'C:\\\\Users\\\\saima\\\\AppData\\\\Local\\\\Temp\\\\pip-install-lujqk_7y\\\\tesseract-ocr_133f5235d034483cbe2d230b93962b13\\\\setup.py'\"'\"';f = getattr(tokenize, '\"'\"'open'\"'\"', open)(__file__) if os.path.exists(__file__) else io.StringIO('\"'\"'from setuptools import setup; setup()'\"'\"');code = f.read().replace('\"'\"'\\r\\n'\"'\"', '\"'\"'\\n'\"'\"');f.close();exec(compile(code, __file__, '\"'\"'exec'\"'\"'))' install --record 'C:\\Users\\saima\\AppData\\Local\\Temp\\pip-record-h37c_vzp\\install-record.txt' --single-version-externally-managed --user --prefix= --compile --install-headers 'C:\\Users\\saima\\AppData\\Roaming\\Python\\Python39\\Include\\tesseract-ocr'\n",
      "         cwd: C:\\Users\\saima\\AppData\\Local\\Temp\\pip-install-lujqk_7y\\tesseract-ocr_133f5235d034483cbe2d230b93962b13\\\n",
      "    Complete output (12 lines):\n",
      "    C:\\ProgramData\\Anaconda3\\lib\\site-packages\\setuptools\\dist.py:757: UserWarning: Usage of dash-separated 'description-file' will not be supported in future versions. Please use the underscore name 'description_file' instead\n",
      "      warnings.warn(\n",
      "    running install\n",
      "    C:\\ProgramData\\Anaconda3\\lib\\site-packages\\setuptools\\command\\install.py:34: SetuptoolsDeprecationWarning: setup.py install is deprecated. Use build and pip and other standards-based tools.\n",
      "      warnings.warn(\n",
      "    running build\n",
      "    running build_py\n",
      "    file tesseract_ocr.py (for module tesseract_ocr) not found\n",
      "    file tesseract_ocr.py (for module tesseract_ocr) not found\n",
      "    running build_ext\n",
      "    building 'tesseract_ocr' extension\n",
      "    error: Microsoft Visual C++ 14.0 or greater is required. Get it with \"Microsoft C++ Build Tools\": https://visualstudio.microsoft.com/visual-cpp-build-tools/\n",
      "    ----------------------------------------\n",
      "ERROR: Command errored out with exit status 1: 'C:\\ProgramData\\Anaconda3\\python.exe' -u -c 'import io, os, sys, setuptools, tokenize; sys.argv[0] = '\"'\"'C:\\\\Users\\\\saima\\\\AppData\\\\Local\\\\Temp\\\\pip-install-lujqk_7y\\\\tesseract-ocr_133f5235d034483cbe2d230b93962b13\\\\setup.py'\"'\"'; __file__='\"'\"'C:\\\\Users\\\\saima\\\\AppData\\\\Local\\\\Temp\\\\pip-install-lujqk_7y\\\\tesseract-ocr_133f5235d034483cbe2d230b93962b13\\\\setup.py'\"'\"';f = getattr(tokenize, '\"'\"'open'\"'\"', open)(__file__) if os.path.exists(__file__) else io.StringIO('\"'\"'from setuptools import setup; setup()'\"'\"');code = f.read().replace('\"'\"'\\r\\n'\"'\"', '\"'\"'\\n'\"'\"');f.close();exec(compile(code, __file__, '\"'\"'exec'\"'\"'))' install --record 'C:\\Users\\saima\\AppData\\Local\\Temp\\pip-record-h37c_vzp\\install-record.txt' --single-version-externally-managed --user --prefix= --compile --install-headers 'C:\\Users\\saima\\AppData\\Roaming\\Python\\Python39\\Include\\tesseract-ocr' Check the logs for full command output.\n"
     ]
    }
   ],
   "source": [
    "pip install tesseract-ocr"
   ]
  },
  {
   "cell_type": "code",
   "execution_count": 15,
   "id": "21d950cd",
   "metadata": {},
   "outputs": [
    {
     "name": "stdout",
     "output_type": "stream",
     "text": [
      "MAJOR JOB PORTAL IN INDJA\n",
      "\n",
      "Glassdoor\n",
      "\n",
      "Indeed\n",
      "\n",
      "Linkedin\n",
      "\n",
      "Naukri.com / Hirist / IIMJobs\n",
      "Cutshort\n",
      "\n",
      "MonsterIndia\n",
      "\n",
      "Shine\n",
      "\n",
      "vvvvvvvy wv\n",
      "\n",
      "Internshala - For internships\n",
      "\n"
     ]
    }
   ],
   "source": [
    "def process_image(iamge_name, lang_code):\n",
    "    return pytesseract.image_to_string(Image.open(iamge_name), lang=lang_code)\n",
    "\n",
    "def print_data(data):\n",
    "    print(data)\n",
    "\n",
    "def main():\n",
    "    data_eng = process_image(\"Screenshot 2022-07-09 111945.png\", \"eng\")\n",
    "    #data_ben = process_image(\"test_ben.png\", \"ben\")\n",
    "    print_data(data_eng)\n",
    "    #print_data(data_ben)\n",
    "    \n",
    "if  __name__ == '__main__':\n",
    "    main()"
   ]
  },
  {
   "cell_type": "code",
   "execution_count": null,
   "id": "b474355f",
   "metadata": {},
   "outputs": [],
   "source": []
  }
 ],
 "metadata": {
  "kernelspec": {
   "display_name": "Python 3 (ipykernel)",
   "language": "python",
   "name": "python3"
  },
  "language_info": {
   "codemirror_mode": {
    "name": "ipython",
    "version": 3
   },
   "file_extension": ".py",
   "mimetype": "text/x-python",
   "name": "python",
   "nbconvert_exporter": "python",
   "pygments_lexer": "ipython3",
   "version": "3.9.12"
  }
 },
 "nbformat": 4,
 "nbformat_minor": 5
}
